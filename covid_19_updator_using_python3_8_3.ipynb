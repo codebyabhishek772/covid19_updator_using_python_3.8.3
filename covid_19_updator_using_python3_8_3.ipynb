{
  "nbformat": 4,
  "nbformat_minor": 0,
  "metadata": {
    "colab": {
      "name": "covid-19_updator_using_python3.8.3.ipynb",
      "provenance": [],
      "collapsed_sections": [],
      "authorship_tag": "ABX9TyNmEqljgxm7Q3dR+s5JSWeA",
      "include_colab_link": true
    },
    "kernelspec": {
      "name": "python3",
      "display_name": "Python 3"
    }
  },
  "cells": [
    {
      "cell_type": "markdown",
      "metadata": {
        "id": "view-in-github",
        "colab_type": "text"
      },
      "source": [
        "<a href=\"https://colab.research.google.com/github/codebyabhishek772/covid19_updator_using_python_3.8.3/blob/master/covid_19_updator_using_python3_8_3.ipynb\" target=\"_parent\"><img src=\"https://colab.research.google.com/assets/colab-badge.svg\" alt=\"Open In Colab\"/></a>"
      ]
    },
    {
      "cell_type": "code",
      "metadata": {
        "id": "2f1dDghbvDj8",
        "colab_type": "code",
        "colab": {}
      },
      "source": [
        "import requests\n",
        "import json\n",
        "import time\n",
        "from win10toast import ToastNotifier"
      ],
      "execution_count": null,
      "outputs": []
    },
    {
      "cell_type": "code",
      "metadata": {
        "id": "ZI9ZMmLPuOE_",
        "colab_type": "code",
        "colab": {}
      },
      "source": [
        "def update():\n",
        "  r = requests.get('https://coronavirus-19-api.herokuapp.com/all')\n",
        "  data = r.json()\n",
        "  text =  f'Confirmed Cases : {data[\"cases\"]} \\nDeaths : {data[\"deaths\"]} \\nRecovered : {[\"recovered\"]}'\n",
        "\n",
        "  while True:\n",
        "    toast =  ToastNotifier()\n",
        "    toast.show_toast(\"covid-19 update\", text, duration = 20)\n",
        "    time.sleep(60)\n",
        "\n",
        "update()"
      ],
      "execution_count": null,
      "outputs": []
    }
  ]
}